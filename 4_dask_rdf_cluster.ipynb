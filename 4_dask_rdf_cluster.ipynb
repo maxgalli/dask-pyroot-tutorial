{
 "cells": [
  {
   "cell_type": "markdown",
   "metadata": {},
   "source": [
    "# Distribute computation of RDataFrames in a SLURM cluster\n",
    "\n",
    "In this part, we perform a more realistic and useful example. \\\n",
    "Given a ```TTree``` with 150 branches stored into 500 ROOT files, we want to obtain the histograms from all the branches spreading the computation over the nodes of a SLURM cluster. \\\n",
    "Workflow:\n",
    "* setup a Dask scheduler with 10 workers, each one using 4 cores and 10 GB of RAM\n",
    "* submit to the scheduler the function ```get_results``` once for each ROOT file\n",
    "* by using ```dask.distributed.as_completed``` and ```ROOT.THisto.Add``` we merge the results obtained from each ROOT file\n",
    "\n",
    "We will also follow the execution of the tasks we submitted on the Dask Dashboard.\n",
    "\n",
    "N.B.: the same result could have been achieved by feeding a single ```RDataFrame``` with a ```TChain``` containing all the 500 files.  "
   ]
  },
  {
   "cell_type": "code",
   "execution_count": null,
   "metadata": {},
   "outputs": [],
   "source": [
    "from dask_jobqueue import SLURMCluster\n",
    "from dask.distributed import Client, as_completed\n",
    "import ROOT"
   ]
  },
  {
   "cell_type": "code",
   "execution_count": null,
   "metadata": {},
   "outputs": [],
   "source": [
    "def get_results(tree_name, root_file):\n",
    "    import ROOT\n",
    "    ROOT.EnableImplicitMT()\n",
    "    rdf = ROOT.RDataFrame(tree_name, root_file)\n",
    "    names = [name for name in rdf.GetColumnNames()]\n",
    "    ptrs = [rdf.Histo1D(name) for name in names]\n",
    "    results = [ptr.GetValue() for ptr in ptrs]\n",
    "    return results"
   ]
  },
  {
   "cell_type": "code",
   "execution_count": null,
   "metadata": {},
   "outputs": [],
   "source": [
    "# Just some variables to be able to conveniently loop over the files names\n",
    "\n",
    "base_dir = '/work/gallim/root_files/tnp_original/19102020_data_UL17/'\n",
    "file_tmplt = 'output_SingleElectron_alesauva-UL2017-10_6_4-v0-Run2017{}-09Aug2019_UL2017{}_USER_{}.root'\n",
    "tree_name = 'tagAndProbeDumper/trees/Data_13TeV_All'\n",
    "runs_id = runs_id = [\n",
    "    ('B', '-v1-8940b7b9416f1cbf6fbb86981f4883ea'), \n",
    "    ('C', '-v1-c086301171e46d9c80ca640d553ab2cd'), \n",
    "    ('D', '-v1-c086301171e46d9c80ca640d553ab2cd'), \n",
    "    ('E', '-v1-c086301171e46d9c80ca640d553ab2cd'), \n",
    "    ('F', '_rsb-v2-c086301171e46d9c80ca640d553ab2cd')\n",
    "    ]\n",
    "n_files = 50 # all would be 500"
   ]
  },
  {
   "cell_type": "code",
   "execution_count": null,
   "metadata": {},
   "outputs": [],
   "source": [
    "cluster = SLURMCluster(cores=4, memory='10G', log_directory='slurm_logs')\n",
    "client = Client(cluster)\n",
    "cluster.scale(10)"
   ]
  },
  {
   "cell_type": "code",
   "execution_count": null,
   "metadata": {},
   "outputs": [],
   "source": [
    "client"
   ]
  },
  {
   "cell_type": "code",
   "execution_count": null,
   "metadata": {},
   "outputs": [],
   "source": [
    "%%time\n",
    "\n",
    "import os.path\n",
    "\n",
    "futures = {}\n",
    "for ri in runs_id:\n",
    "    for n in range(n_files):\n",
    "        file_name = file_tmplt.format(ri[0], ri[1], n)\n",
    "        if os.path.exists(base_dir + file_name):\n",
    "            futures[file_name] = client.submit(get_results, tree_name, base_dir + file_name)\n",
    "\n",
    "final_histos = []\n",
    "for future_histos, histos in as_completed(futures.values(), with_results=True):\n",
    "    if not final_histos:\n",
    "        for histo in histos:\n",
    "            final_histos.append(histo)\n",
    "    else:\n",
    "        for final_histo, histo in zip(final_histos, histos):\n",
    "            final_histo.Add(histo)\n",
    "    del future_histos"
   ]
  },
  {
   "cell_type": "code",
   "execution_count": null,
   "metadata": {},
   "outputs": [],
   "source": [
    "client.close()\n",
    "cluster.close()\n",
    "del client\n",
    "del cluster"
   ]
  },
  {
   "cell_type": "markdown",
   "metadata": {},
   "source": [
    "### If we want to see the histograms (ROOT Jupyter trick)"
   ]
  },
  {
   "cell_type": "code",
   "execution_count": null,
   "metadata": {},
   "outputs": [],
   "source": [
    "canvases = []\n",
    "\n",
    "for histo in final_histos:\n",
    "    canvas = ROOT.TCanvas(histo.GetName(), histo.GetName())\n",
    "    histo.Draw()\n",
    "    canvases.append(canvas)\n",
    "\n",
    "for canvas in canvases:\n",
    "    canvas.Draw()"
   ]
  }
 ],
 "metadata": {
  "kernelspec": {
   "display_name": "Python 3",
   "language": "python",
   "name": "python3"
  },
  "language_info": {
   "codemirror_mode": {
    "name": "ipython",
    "version": 3
   },
   "file_extension": ".py",
   "mimetype": "text/x-python",
   "name": "python",
   "nbconvert_exporter": "python",
   "pygments_lexer": "ipython3",
   "version": "3.7.6"
  }
 },
 "nbformat": 4,
 "nbformat_minor": 4
}
