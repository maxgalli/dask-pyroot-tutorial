{
 "cells": [
  {
   "cell_type": "markdown",
   "metadata": {},
   "source": [
    "# Simple RDataFrame example\n",
    "\n",
    "RDataFrame allows to perform operations efficiently in two ways:\n",
    "* get multiple results in one shot\n",
    "* multithreading "
   ]
  },
  {
   "cell_type": "markdown",
   "metadata": {},
   "source": [
    "Let's first take a look at the dataset"
   ]
  },
  {
   "cell_type": "code",
   "execution_count": null,
   "metadata": {},
   "outputs": [],
   "source": [
    "import ROOT\n",
    "import uproot4"
   ]
  },
  {
   "cell_type": "code",
   "execution_count": null,
   "metadata": {},
   "outputs": [],
   "source": [
    "f = uproot4.open('data/tnp1.root')\n",
    "t = f['Data_13TeV_All']\n",
    "\n",
    "t.show()\n",
    "print('\\nEntries: {}'.format(t.num_entries))"
   ]
  },
  {
   "cell_type": "markdown",
   "metadata": {},
   "source": [
    "### Optimal (event loop run once)"
   ]
  },
  {
   "cell_type": "code",
   "execution_count": null,
   "metadata": {},
   "outputs": [],
   "source": [
    "rdf = ROOT.RDataFrame('Data_13TeV_All', 'data/tnp1.root')\n",
    "names = [name for name in rdf.GetColumnNames()]"
   ]
  },
  {
   "cell_type": "code",
   "execution_count": null,
   "metadata": {},
   "outputs": [],
   "source": [
    "%%time \n",
    "\n",
    "ptrs = [rdf.Histo1D(name) for name in names]\n",
    "\n",
    "histos = []\n",
    "for ptr in ptrs:\n",
    "    histos.append(ptr.GetValue())\n",
    "    \n",
    "print('Event loop run {} time(s)'.format(rdf.GetNRuns()))"
   ]
  },
  {
   "cell_type": "markdown",
   "metadata": {},
   "source": [
    "### Suboptimal (event loop run once per branch, TTree::Draw-style)"
   ]
  },
  {
   "cell_type": "code",
   "execution_count": null,
   "metadata": {},
   "outputs": [],
   "source": [
    "rdf = ROOT.RDataFrame('Data_13TeV_All', 'data/tnp1.root')\n",
    "names = [name for name in rdf.GetColumnNames()]"
   ]
  },
  {
   "cell_type": "code",
   "execution_count": null,
   "metadata": {},
   "outputs": [],
   "source": [
    "%%time\n",
    "\n",
    "histos = []\n",
    "for name in names:\n",
    "    ptr = rdf.Histo1D(name)\n",
    "    histos.append(ptr.GetValue())\n",
    "    \n",
    "print('Event loop run {} time(s)'.format(rdf.GetNRuns()))"
   ]
  },
  {
   "cell_type": "markdown",
   "metadata": {},
   "source": [
    "### Optimal, with multithreading"
   ]
  },
  {
   "cell_type": "code",
   "execution_count": null,
   "metadata": {},
   "outputs": [],
   "source": [
    "ROOT.EnableImplicitMT()\n",
    "rdf = ROOT.RDataFrame('Data_13TeV_All', 'data/tnp1.root')\n",
    "names = [name for name in rdf.GetColumnNames()]"
   ]
  },
  {
   "cell_type": "code",
   "execution_count": null,
   "metadata": {},
   "outputs": [],
   "source": [
    "%%time \n",
    "\n",
    "ptrs = [rdf.Histo1D(name) for name in names]\n",
    "\n",
    "histos = []\n",
    "for ptr in ptrs:\n",
    "    histos.append(ptr.GetValue())"
   ]
  },
  {
   "cell_type": "markdown",
   "metadata": {},
   "source": [
    "### If we want to see the histograms (ROOT Jupyter trick)"
   ]
  },
  {
   "cell_type": "code",
   "execution_count": null,
   "metadata": {},
   "outputs": [],
   "source": [
    "canvases = []\n",
    "\n",
    "for histo in histos:\n",
    "    canvas = ROOT.TCanvas(histo.GetName(), histo.GetName())\n",
    "    histo.Draw()\n",
    "    canvases.append(canvas)\n",
    "\n",
    "for canvas in canvases:\n",
    "    canvas.Draw()"
   ]
  },
  {
   "cell_type": "markdown",
   "metadata": {},
   "source": [
    "### If we want to see the histograms (matplotlib)"
   ]
  },
  {
   "cell_type": "code",
   "execution_count": null,
   "metadata": {},
   "outputs": [],
   "source": [
    "import matplotlib.pyplot as plt\n",
    "import boost_histogram as bh\n",
    "import aghast\n",
    "import mplhep\n",
    "\n",
    "plt.style.use(mplhep.style.CMS)\n",
    "\n",
    "def plot(root_histo):\n",
    "    ghastly_histo = aghast.from_root(root_histo)\n",
    "    data, edges = aghast.to_numpy(ghastly_histo)\n",
    "\n",
    "    h = bh.Histogram(bh.axis.Variable(edges[1:-1]))\n",
    "    h[:] = data\n",
    "    \n",
    "    plt.bar(h.axes[0].centers, h.view(), width=h.axes[0].widths)\n",
    "    plt.show()\n",
    "    \n",
    "for histo in histos:\n",
    "    plot(histo)"
   ]
  }
 ],
 "metadata": {
  "kernelspec": {
   "display_name": "Python 3",
   "language": "python",
   "name": "python3"
  },
  "language_info": {
   "codemirror_mode": {
    "name": "ipython",
    "version": 3
   },
   "file_extension": ".py",
   "mimetype": "text/x-python",
   "name": "python",
   "nbconvert_exporter": "python",
   "pygments_lexer": "ipython3",
   "version": "3.7.6"
  }
 },
 "nbformat": 4,
 "nbformat_minor": 4
}
