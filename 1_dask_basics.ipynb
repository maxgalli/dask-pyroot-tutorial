{
 "cells": [
  {
   "cell_type": "markdown",
   "metadata": {},
   "source": [
    "# Simple Dask example on a single machine\n",
    "\n",
    "We define a simple function that simulates work by calling ```sleep(2)``` and call it multiple times. \\\n",
    "Since they are independent from each other, the Dask scheduler runs them in parallel."
   ]
  },
  {
   "cell_type": "code",
   "execution_count": null,
   "metadata": {},
   "outputs": [],
   "source": [
    "from dask.distributed import Client, LocalCluster"
   ]
  },
  {
   "cell_type": "code",
   "execution_count": null,
   "metadata": {},
   "outputs": [],
   "source": [
    "from time import sleep\n",
    "\n",
    "def foo(n):\n",
    "    sleep(2)\n",
    "    return n"
   ]
  },
  {
   "cell_type": "markdown",
   "metadata": {},
   "source": [
    "There are many options to customize the creation of a local cluster (see [here](https://distributed.dask.org/en/latest/api.html#cluster)). \\\n",
    "In particular, ```processes=False``` (default) instructs the workers to use processes, while ```processes=True``` makes them use threads."
   ]
  },
  {
   "cell_type": "code",
   "execution_count": null,
   "metadata": {},
   "outputs": [],
   "source": [
    "# Start a local cluster and connect a client to it\n",
    "\n",
    "cluster = LocalCluster()\n",
    "client = Client(cluster)"
   ]
  },
  {
   "cell_type": "code",
   "execution_count": null,
   "metadata": {},
   "outputs": [],
   "source": [
    "client"
   ]
  },
  {
   "cell_type": "code",
   "execution_count": null,
   "metadata": {},
   "outputs": [],
   "source": [
    "%%time\n",
    "# Sequential execution\n",
    "\n",
    "results = [foo(n) for n in range(4)]\n",
    "\n",
    "print('Results: {}'.format(results))"
   ]
  },
  {
   "cell_type": "code",
   "execution_count": null,
   "metadata": {},
   "outputs": [],
   "source": [
    "%%time \n",
    "# Parallel execution\n",
    "\n",
    "futures = client.map(foo, range(4))\n",
    "results = client.gather(futures)\n",
    "del futures\n",
    "\n",
    "print('Results: {}'.format(results))"
   ]
  },
  {
   "cell_type": "code",
   "execution_count": null,
   "metadata": {},
   "outputs": [],
   "source": [
    "%%time \n",
    "# This works as well\n",
    "\n",
    "futures = [client.submit(foo, n) for n in range(4)]\n",
    "results = client.gather(futures)\n",
    "del futures\n",
    "\n",
    "print('Results: {}'.format(results))"
   ]
  },
  {
   "cell_type": "markdown",
   "metadata": {},
   "source": [
    "N.B.: ```map``` and ```submit``` return **immediately** ```future``` objects, which describe the status of the submitted computation but don't block the code. This means that we can let them run and fetch them as a later time using ```gather``` or ```result```."
   ]
  },
  {
   "cell_type": "code",
   "execution_count": null,
   "metadata": {},
   "outputs": [],
   "source": [
    "client.close()\n",
    "cluster.close()"
   ]
  }
 ],
 "metadata": {
  "kernelspec": {
   "display_name": "Python 3",
   "language": "python",
   "name": "python3"
  },
  "language_info": {
   "codemirror_mode": {
    "name": "ipython",
    "version": 3
   },
   "file_extension": ".py",
   "mimetype": "text/x-python",
   "name": "python",
   "nbconvert_exporter": "python",
   "pygments_lexer": "ipython3",
   "version": "3.7.8"
  }
 },
 "nbformat": 4,
 "nbformat_minor": 4
}
