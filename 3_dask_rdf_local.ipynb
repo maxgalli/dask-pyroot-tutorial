{
 "cells": [
  {
   "cell_type": "markdown",
   "metadata": {},
   "source": [
    "# Combine Dask and RDataFrame worlds\n",
    "\n",
    "A basic example of how to combine the two worlds. \\\n",
    "The idea is to extract results from two different ROOT files in parallel using a local Dask scheduler. \\\n",
    "Workflow:\n",
    "* define a function that takes as input the path to a ROOT file and the name of the TTree stored in it from which we want to get results;\n",
    "* setup a LocalCluster with two workers;\n",
    "* feed the scheduler with the required parameters; inside each worker, an RDataFrame will be created and the event loop run\n",
    "* the results are returned as futures, so we need to run ```client.gather(futures)``` to get the actual results"
   ]
  },
  {
   "cell_type": "code",
   "execution_count": null,
   "metadata": {},
   "outputs": [],
   "source": [
    "import ROOT\n",
    "from dask.distributed import Client, LocalCluster\n",
    "import uproot4"
   ]
  },
  {
   "cell_type": "markdown",
   "metadata": {},
   "source": [
    "First, let's take a quick look at the TTrees"
   ]
  },
  {
   "cell_type": "code",
   "execution_count": null,
   "metadata": {},
   "outputs": [],
   "source": [
    "f = uproot4.open('data/tnp1.root')\n",
    "t = f['Data_13TeV_All']\n",
    "\n",
    "t.show()\n",
    "print('\\nEntries: {}'.format(t.num_entries))"
   ]
  },
  {
   "cell_type": "code",
   "execution_count": null,
   "metadata": {},
   "outputs": [],
   "source": [
    "f = uproot4.open('data/tnp2.root')\n",
    "t = f['Data_13TeV_All']\n",
    "\n",
    "t.show()\n",
    "print('\\nEntries: {}'.format(t.num_entries))"
   ]
  },
  {
   "cell_type": "code",
   "execution_count": null,
   "metadata": {},
   "outputs": [],
   "source": [
    "def get_results(tree_name, root_file):\n",
    "    import ROOT\n",
    "    rdf = ROOT.RDataFrame(tree_name, root_file)\n",
    "    names = [name for name in rdf.GetColumnNames()]\n",
    "    ptrs = [rdf.Histo1D(name) for name in names]\n",
    "    results = [ptr.GetValue() for ptr in ptrs]\n",
    "    return results"
   ]
  },
  {
   "cell_type": "markdown",
   "metadata": {},
   "source": [
    "### Watch out!\n",
    "* we can't directly feed the function with an instance of RDataFrame, since it can be serialized (yet), see https://github.com/root-project/root/issues/6765\n",
    "* due to ```cloudpickle``` not being able to serialize ```ROOTFacade```, it is necessary to re-import ROOT (see https://github.com/cloudpipe/cloudpickle/issues/397)"
   ]
  },
  {
   "cell_type": "code",
   "execution_count": null,
   "metadata": {},
   "outputs": [],
   "source": [
    "cluster = LocalCluster()\n",
    "client = Client(cluster)\n",
    "cluster.scale(2)"
   ]
  },
  {
   "cell_type": "code",
   "execution_count": null,
   "metadata": {},
   "outputs": [],
   "source": [
    "client"
   ]
  },
  {
   "cell_type": "code",
   "execution_count": null,
   "metadata": {},
   "outputs": [],
   "source": [
    "%%time\n",
    "\n",
    "futures = []\n",
    "for file_name in ['data/tnp1.root', 'data/tnp2.root']:\n",
    "    futures.append(client.submit(get_results, 'Data_13TeV_All', file_name))\n",
    "\n",
    "histos = [histo for sublist in client.gather(futures) for histo in sublist]"
   ]
  },
  {
   "cell_type": "code",
   "execution_count": null,
   "metadata": {},
   "outputs": [],
   "source": [
    "client.close()\n",
    "cluster.close()"
   ]
  },
  {
   "cell_type": "markdown",
   "metadata": {},
   "source": [
    "## Considerations\n",
    "\n",
    "As you probably have noticed, the amount of time taken to extract results from the two RDataFrames is *longer* than running them sequentially with multithreading enabled: this example is indeed only meant to explain how it is possible to combine the two worlds, but on a single machine running with ```EnableImplicitMT``` activated is probably the best solution to reach an optimal performance. \\\n",
    "Also the small size of the events doesn't make convenient to use this approach in this specific case. \\\n",
    "A better application would be to do the same operation in a distributed system."
   ]
  },
  {
   "cell_type": "markdown",
   "metadata": {},
   "source": [
    "### If we want to see the histograms (matplotlib)"
   ]
  },
  {
   "cell_type": "code",
   "execution_count": null,
   "metadata": {},
   "outputs": [],
   "source": [
    "canvases = []\n",
    "\n",
    "for histo in histos:\n",
    "    canvas = ROOT.TCanvas(histo.GetName(), histo.GetName())\n",
    "    histo.Draw()\n",
    "    canvases.append(canvas)\n",
    "\n",
    "for canvas in canvases:\n",
    "    canvas.Draw()"
   ]
  }
 ],
 "metadata": {
  "kernelspec": {
   "display_name": "Python 3",
   "language": "python",
   "name": "python3"
  },
  "language_info": {
   "codemirror_mode": {
    "name": "ipython",
    "version": 3
   },
   "file_extension": ".py",
   "mimetype": "text/x-python",
   "name": "python",
   "nbconvert_exporter": "python",
   "pygments_lexer": "ipython3",
   "version": "3.7.8"
  }
 },
 "nbformat": 4,
 "nbformat_minor": 4
}
